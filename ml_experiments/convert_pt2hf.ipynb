{
 "cells": [
  {
   "cell_type": "code",
   "execution_count": 1,
   "metadata": {},
   "outputs": [],
   "source": [
    "import torch\n",
    "from transformers import AutoModel, AutoTokenizer, AutoConfig"
   ]
  },
  {
   "cell_type": "code",
   "execution_count": 2,
   "metadata": {},
   "outputs": [
    {
     "name": "stderr",
     "output_type": "stream",
     "text": [
      "/tmp/ipykernel_147546/1150938657.py:13: FutureWarning: You are using `torch.load` with `weights_only=False` (the current default value), which uses the default pickle module implicitly. It is possible to construct malicious pickle data which will execute arbitrary code during unpickling (See https://github.com/pytorch/pytorch/blob/main/SECURITY.md#untrusted-models for more details). In a future release, the default value for `weights_only` will be flipped to `True`. This limits the functions that could be executed during unpickling. Arbitrary objects will no longer be allowed to be loaded via this mode unless they are explicitly allowlisted by the user via `torch.serialization.add_safe_globals`. We recommend you start setting `weights_only=True` for any use case where you don't have full control of the loaded file. Please open an issue on GitHub for any issues related to this experimental feature.\n",
      "  state = torch.load(\n",
      "Some weights of RobertaModel were not initialized from the model checkpoint at ai-forever/ru-en-RoSBERTa and are newly initialized: ['pooler.dense.bias', 'pooler.dense.weight']\n",
      "You should probably TRAIN this model on a down-stream task to be able to use it for predictions and inference.\n"
     ]
    },
    {
     "data": {
      "text/plain": [
       "('output_ruenrosberta_hf/tokenizer_config.json',\n",
       " 'output_ruenrosberta_hf/special_tokens_map.json',\n",
       " 'output_ruenrosberta_hf/vocab.json',\n",
       " 'output_ruenrosberta_hf/merges.txt',\n",
       " 'output_ruenrosberta_hf/added_tokens.json',\n",
       " 'output_ruenrosberta_hf/tokenizer.json')"
      ]
     },
     "execution_count": 2,
     "metadata": {},
     "output_type": "execute_result"
    }
   ],
   "source": [
    "class CustomModel(torch.nn.Module):\n",
    "    def __init__(self, name):\n",
    "        super().__init__()\n",
    "        self.model = AutoModel.from_pretrained(name)\n",
    "        self.config = AutoConfig.from_pretrained(name)\n",
    "        self.fc_class1 = torch.nn.Linear(self.config.hidden_size, 11)\n",
    "        self.fc_class2 = torch.nn.Linear(self.config.hidden_size, 39)\n",
    "\n",
    "    def save_hf(self):\n",
    "        self.model.save_pretrained(\"output_ruenrosberta_hf\")\n",
    "        torch.save({\"fc_class1\": self.fc_class1.state_dict(), \"fc_class2\": self.fc_class2.state_dict()}, \"output_ruenrosberta_hf/linear.pth\")\n",
    "\n",
    "state = torch.load(\n",
    "        \"output_ruenrosberta/ai-forever-ru-en-RoSBERTa_fold0_best.pth\",\n",
    "        map_location=torch.device(\"cpu\"),\n",
    "    )\n",
    "\n",
    "name = \"ai-forever/ru-en-RoSBERTa\"\n",
    "model = CustomModel(name)\n",
    "model.load_state_dict(state[\"model\"])\n",
    "model.save_hf()\n",
    "tok = AutoTokenizer.from_pretrained(name)\n",
    "tok.save_pretrained(\"output_ruenrosberta_hf\")"
   ]
  },
  {
   "cell_type": "code",
   "execution_count": null,
   "metadata": {},
   "outputs": [],
   "source": []
  }
 ],
 "metadata": {
  "kernelspec": {
   "display_name": "venv",
   "language": "python",
   "name": "python3"
  },
  "language_info": {
   "codemirror_mode": {
    "name": "ipython",
    "version": 3
   },
   "file_extension": ".py",
   "mimetype": "text/x-python",
   "name": "python",
   "nbconvert_exporter": "python",
   "pygments_lexer": "ipython3",
   "version": "3.10.12"
  }
 },
 "nbformat": 4,
 "nbformat_minor": 2
}
